{
  "nbformat": 4,
  "nbformat_minor": 0,
  "metadata": {
    "colab": {
      "name": "Copy of mnistdigit.ipynb",
      "provenance": []
    },
    "kernelspec": {
      "name": "python3",
      "display_name": "Python 3"
    }
  },
  "cells": [
    {
      "cell_type": "markdown",
      "metadata": {
        "id": "aRs36qSePasq",
        "colab_type": "text"
      },
      "source": [
        "(c) Sam Trivett, 2019\n",
        "\n",
        "Distributed under GNU General Public License (GPL) v3 see https://www.gnu.org/licenses/gpl-3.0.en.html"
      ]
    },
    {
      "cell_type": "code",
      "metadata": {
        "id": "QdDUkQloHdQa",
        "colab_type": "code",
        "outputId": "aa0b0018-ac08-4bb1-ae0c-e4fec577205a",
        "colab": {
          "base_uri": "https://localhost:8080/",
          "height": 370
        }
      },
      "source": [
        "!pip install tensorflow"
      ],
      "execution_count": 0,
      "outputs": [
        {
          "output_type": "stream",
          "text": [
            "Requirement already satisfied: tensorflow in /usr/local/lib/python3.6/dist-packages (1.15.0)\n",
            "Requirement already satisfied: keras-preprocessing>=1.0.5 in /usr/local/lib/python3.6/dist-packages (from tensorflow) (1.1.0)\n",
            "Requirement already satisfied: keras-applications>=1.0.8 in /usr/local/lib/python3.6/dist-packages (from tensorflow) (1.0.8)\n",
            "Requirement already satisfied: protobuf>=3.6.1 in /usr/local/lib/python3.6/dist-packages (from tensorflow) (3.10.0)\n",
            "Requirement already satisfied: opt-einsum>=2.3.2 in /usr/local/lib/python3.6/dist-packages (from tensorflow) (3.1.0)\n",
            "Requirement already satisfied: six>=1.10.0 in /usr/local/lib/python3.6/dist-packages (from tensorflow) (1.12.0)\n",
            "Requirement already satisfied: google-pasta>=0.1.6 in /usr/local/lib/python3.6/dist-packages (from tensorflow) (0.1.8)\n",
            "Requirement already satisfied: tensorboard<1.16.0,>=1.15.0 in /usr/local/lib/python3.6/dist-packages (from tensorflow) (1.15.0)\n",
            "Requirement already satisfied: gast==0.2.2 in /usr/local/lib/python3.6/dist-packages (from tensorflow) (0.2.2)\n",
            "Requirement already satisfied: numpy<2.0,>=1.16.0 in /usr/local/lib/python3.6/dist-packages (from tensorflow) (1.17.3)\n",
            "Requirement already satisfied: grpcio>=1.8.6 in /usr/local/lib/python3.6/dist-packages (from tensorflow) (1.15.0)\n",
            "Requirement already satisfied: wheel>=0.26 in /usr/local/lib/python3.6/dist-packages (from tensorflow) (0.33.6)\n",
            "Requirement already satisfied: termcolor>=1.1.0 in /usr/local/lib/python3.6/dist-packages (from tensorflow) (1.1.0)\n",
            "Requirement already satisfied: absl-py>=0.7.0 in /usr/local/lib/python3.6/dist-packages (from tensorflow) (0.8.1)\n",
            "Requirement already satisfied: tensorflow-estimator==1.15.1 in /usr/local/lib/python3.6/dist-packages (from tensorflow) (1.15.1)\n",
            "Requirement already satisfied: wrapt>=1.11.1 in /usr/local/lib/python3.6/dist-packages (from tensorflow) (1.11.2)\n",
            "Requirement already satisfied: astor>=0.6.0 in /usr/local/lib/python3.6/dist-packages (from tensorflow) (0.8.0)\n",
            "Requirement already satisfied: h5py in /usr/local/lib/python3.6/dist-packages (from keras-applications>=1.0.8->tensorflow) (2.8.0)\n",
            "Requirement already satisfied: setuptools in /usr/local/lib/python3.6/dist-packages (from protobuf>=3.6.1->tensorflow) (41.4.0)\n",
            "Requirement already satisfied: werkzeug>=0.11.15 in /usr/local/lib/python3.6/dist-packages (from tensorboard<1.16.0,>=1.15.0->tensorflow) (0.16.0)\n",
            "Requirement already satisfied: markdown>=2.6.8 in /usr/local/lib/python3.6/dist-packages (from tensorboard<1.16.0,>=1.15.0->tensorflow) (3.1.1)\n"
          ],
          "name": "stdout"
        }
      ]
    },
    {
      "cell_type": "markdown",
      "metadata": {
        "id": "m1XKv4tpSw-I",
        "colab_type": "text"
      },
      "source": [
        "Import useful libraries.\n"
      ]
    },
    {
      "cell_type": "code",
      "metadata": {
        "id": "yzKglHSPJabk",
        "colab_type": "code",
        "colab": {}
      },
      "source": [
        "import numpy as np\n",
        "import pandas as pd\n",
        "import keras\n",
        "import matplotlib.pyplot as plt\n",
        " "
      ],
      "execution_count": 0,
      "outputs": []
    },
    {
      "cell_type": "code",
      "metadata": {
        "id": "hRusq7cmN9XH",
        "colab_type": "code",
        "colab": {}
      },
      "source": [
        "mnist = keras.datasets.mnist\n",
        "(x_train, y_train), (x_test, y_test) = mnist.load_data()"
      ],
      "execution_count": 0,
      "outputs": []
    },
    {
      "cell_type": "markdown",
      "metadata": {
        "id": "wMoO3WG3RHKc",
        "colab_type": "text"
      },
      "source": [
        "Recolour and reshape data into 28*28 binary images, categorise them with one-hot encoding."
      ]
    },
    {
      "cell_type": "code",
      "metadata": {
        "id": "834cW--CPUDD",
        "colab_type": "code",
        "colab": {}
      },
      "source": [
        "x_train = x_train.reshape(x_train.shape[0], 28, 28, 1)\n",
        "x_test = x_test.reshape(x_test.shape[0], 28, 28, 1)\n",
        "input_shape = (28, 28, 1)\n",
        "\n",
        "x_train = x_train.astype('float32')\n",
        "x_test = x_test.astype('float32')\n",
        "x_train /= 255\n",
        "x_test /= 255\n",
        "\n",
        "y_train = keras.utils.to_categorical(y_train, 10)\n",
        "y_test = keras.utils.to_categorical(y_test, 10)\n"
      ],
      "execution_count": 0,
      "outputs": []
    },
    {
      "cell_type": "markdown",
      "metadata": {
        "id": "WCumoxTlU5-l",
        "colab_type": "text"
      },
      "source": [
        "Build model and add layers:\n",
        "2 convolutional layers, first is input layer.\n",
        "\n",
        "Pooling layer to reduce image size but keeping features. 2*2 pool reduces image to 25%\n",
        "\n",
        "Dropout layers to randomly drops neurons. Simplifies model and reduces overfitting.\n",
        "\n",
        "Flattening layer to binarise image.\n",
        "\n",
        "Dense layers ending in output layer.\n",
        "\n"
      ]
    },
    {
      "cell_type": "code",
      "metadata": {
        "id": "939A08vLU74v",
        "colab_type": "code",
        "outputId": "1843a250-4fe1-4ad2-cf94-b4d95bc391df",
        "colab": {
          "base_uri": "https://localhost:8080/",
          "height": 101
        }
      },
      "source": [
        "model = keras.models.Sequential()\n",
        "\n",
        "model.add(keras.layers.Conv2D(32, kernel_size=(3, 3), activation='relu', input_shape=input_shape))\n",
        "model.add(keras.layers.Conv2D(64, (3, 3), activation='relu'))\n",
        "model.add(keras.layers.MaxPooling2D(pool_size=(2, 2)))\n",
        "model.add(keras.layers.Dropout(0.25))\n",
        "model.add(keras.layers.Flatten())\n",
        "model.add(keras.layers.Dense(128, activation='relu'))\n",
        "model.add(keras.layers.Dropout(0.5))\n",
        "model.add(keras.layers.Dense(10, activation='softmax'))\n"
      ],
      "execution_count": 0,
      "outputs": [
        {
          "output_type": "stream",
          "text": [
            "WARNING:tensorflow:From /usr/local/lib/python3.6/dist-packages/keras/backend/tensorflow_backend.py:4267: The name tf.nn.max_pool is deprecated. Please use tf.nn.max_pool2d instead.\n",
            "\n",
            "WARNING:tensorflow:From /usr/local/lib/python3.6/dist-packages/keras/backend/tensorflow_backend.py:3733: calling dropout (from tensorflow.python.ops.nn_ops) with keep_prob is deprecated and will be removed in a future version.\n",
            "Instructions for updating:\n",
            "Please use `rate` instead of `keep_prob`. Rate should be set to `rate = 1 - keep_prob`.\n"
          ],
          "name": "stdout"
        }
      ]
    },
    {
      "cell_type": "markdown",
      "metadata": {
        "id": "OY1zWncDVgIS",
        "colab_type": "text"
      },
      "source": [
        "Train Model"
      ]
    },
    {
      "cell_type": "code",
      "metadata": {
        "id": "GzdO0hB8WVJI",
        "colab_type": "code",
        "outputId": "95cdaba3-bb1a-49d0-c446-2d3e0bef20d2",
        "colab": {
          "base_uri": "https://localhost:8080/",
          "height": 638
        }
      },
      "source": [
        "model.compile(loss=keras.losses.categorical_crossentropy, optimizer=keras.optimizers.Adadelta(), metrics=['accuracy'])\n",
        "\n",
        "model.fit(x_train, y_train, batch_size=128, epochs=15, validation_data=(x_test, y_test))"
      ],
      "execution_count": 0,
      "outputs": [
        {
          "output_type": "stream",
          "text": [
            "WARNING:tensorflow:From /usr/local/lib/python3.6/dist-packages/keras/optimizers.py:793: The name tf.train.Optimizer is deprecated. Please use tf.compat.v1.train.Optimizer instead.\n",
            "\n",
            "WARNING:tensorflow:From /usr/local/lib/python3.6/dist-packages/tensorflow_core/python/ops/math_grad.py:1424: where (from tensorflow.python.ops.array_ops) is deprecated and will be removed in a future version.\n",
            "Instructions for updating:\n",
            "Use tf.where in 2.0, which has the same broadcast rule as np.where\n",
            "Train on 60000 samples, validate on 10000 samples\n",
            "Epoch 1/15\n",
            "60000/60000 [==============================] - 162s 3ms/step - loss: 0.2705 - acc: 0.9169 - val_loss: 0.0546 - val_acc: 0.9815\n",
            "Epoch 2/15\n",
            "60000/60000 [==============================] - 162s 3ms/step - loss: 0.0885 - acc: 0.9742 - val_loss: 0.0377 - val_acc: 0.9880\n",
            "Epoch 3/15\n",
            "60000/60000 [==============================] - 161s 3ms/step - loss: 0.0654 - acc: 0.9806 - val_loss: 0.0348 - val_acc: 0.9879\n",
            "Epoch 4/15\n",
            "60000/60000 [==============================] - 160s 3ms/step - loss: 0.0540 - acc: 0.9843 - val_loss: 0.0306 - val_acc: 0.9901\n",
            "Epoch 5/15\n",
            "60000/60000 [==============================] - 161s 3ms/step - loss: 0.0485 - acc: 0.9855 - val_loss: 0.0298 - val_acc: 0.9891\n",
            "Epoch 6/15\n",
            "60000/60000 [==============================] - 161s 3ms/step - loss: 0.0407 - acc: 0.9875 - val_loss: 0.0279 - val_acc: 0.9906\n",
            "Epoch 7/15\n",
            "60000/60000 [==============================] - 160s 3ms/step - loss: 0.0366 - acc: 0.9892 - val_loss: 0.0279 - val_acc: 0.9912\n",
            "Epoch 8/15\n",
            "60000/60000 [==============================] - 159s 3ms/step - loss: 0.0347 - acc: 0.9895 - val_loss: 0.0257 - val_acc: 0.9910\n",
            "Epoch 9/15\n",
            "60000/60000 [==============================] - 159s 3ms/step - loss: 0.0306 - acc: 0.9907 - val_loss: 0.0295 - val_acc: 0.9902\n",
            "Epoch 10/15\n",
            "60000/60000 [==============================] - 159s 3ms/step - loss: 0.0310 - acc: 0.9908 - val_loss: 0.0277 - val_acc: 0.9915\n",
            "Epoch 11/15\n",
            "60000/60000 [==============================] - 158s 3ms/step - loss: 0.0284 - acc: 0.9912 - val_loss: 0.0266 - val_acc: 0.9920\n",
            "Epoch 12/15\n",
            "60000/60000 [==============================] - 159s 3ms/step - loss: 0.0267 - acc: 0.9916 - val_loss: 0.0260 - val_acc: 0.9916\n",
            "Epoch 13/15\n",
            "60000/60000 [==============================] - 161s 3ms/step - loss: 0.0243 - acc: 0.9925 - val_loss: 0.0296 - val_acc: 0.9909\n",
            "Epoch 14/15\n",
            "60000/60000 [==============================] - 162s 3ms/step - loss: 0.0241 - acc: 0.9930 - val_loss: 0.0277 - val_acc: 0.9921\n",
            "Epoch 15/15\n",
            "60000/60000 [==============================] - 160s 3ms/step - loss: 0.0228 - acc: 0.9929 - val_loss: 0.0257 - val_acc: 0.9923\n"
          ],
          "name": "stdout"
        },
        {
          "output_type": "execute_result",
          "data": {
            "text/plain": [
              "<keras.callbacks.History at 0x7faae5496a20>"
            ]
          },
          "metadata": {
            "tags": []
          },
          "execution_count": 10
        }
      ]
    },
    {
      "cell_type": "code",
      "metadata": {
        "id": "RHBI3oP1gJY-",
        "colab_type": "code",
        "outputId": "a2c5c6f6-0853-42f5-e272-0e5510799257",
        "colab": {
          "base_uri": "https://localhost:8080/",
          "height": 50
        }
      },
      "source": [
        "print(model.evaluate(x_test, y_test))"
      ],
      "execution_count": 0,
      "outputs": [
        {
          "output_type": "stream",
          "text": [
            "10000/10000 [==============================] - 7s 662us/step\n",
            "[0.0257404985369873, 0.9923]\n"
          ],
          "name": "stdout"
        }
      ]
    },
    {
      "cell_type": "markdown",
      "metadata": {
        "id": "vNDp2uKGhGfL",
        "colab_type": "text"
      },
      "source": [
        "Low loss and 99.23% accuracy for trained model"
      ]
    }
  ]
}